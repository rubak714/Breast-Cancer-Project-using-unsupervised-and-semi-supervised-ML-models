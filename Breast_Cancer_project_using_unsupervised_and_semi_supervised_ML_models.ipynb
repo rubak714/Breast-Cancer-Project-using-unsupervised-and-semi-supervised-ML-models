{
 "cells": [
  {
   "cell_type": "markdown",
   "id": "4d83a02d",
   "metadata": {},
   "source": [
    "# Breast Cancer project goals to achieve:"
   ]
  },
  {
   "cell_type": "markdown",
   "id": "4216ade0",
   "metadata": {},
   "source": [
    "- Apply unsupervised method on the breast cancer dataset\n",
    "- Apply various unsupervised techniques and see which work best for the data\n",
    "- Apply pca, kmeans as a preprocessing\n",
    "- Take the test data and create a label for the test data using the semi-supervised method\n",
    "- Have a validation dataset to verify the create label is close to the validation test label before propagating it into the test set"
   ]
  },
  {
   "cell_type": "code",
   "execution_count": 1,
   "id": "39306e93",
   "metadata": {
    "ExecuteTime": {
     "end_time": "2022-01-27T16:39:50.486324Z",
     "start_time": "2022-01-27T16:39:48.349140Z"
    }
   },
   "outputs": [],
   "source": [
    "import matplotlib.pyplot as plt\n",
    "import seaborn as sns\n",
    "import pandas as pd\n",
    "import numpy as np\n",
    "from sklearn.model_selection import train_test_split\n",
    "from sklearn.datasets import fetch_olivetti_faces,make_blobs,load_breast_cancer\n",
    "from skimage.io import imshow\n",
    "from sklearn.decomposition import PCA\n",
    "from sklearn.linear_model import LogisticRegression\n",
    "from sklearn import metrics,preprocessing\n",
    "from sklearn.cluster import KMeans,DBSCAN,MiniBatchKMeans\n",
    "from sklearn.metrics import silhouette_samples,silhouette_score,classification_report,homogeneity_completeness_v_measure,accuracy_score\n",
    "from sklearn.pipeline import Pipeline\n",
    "from clusterval import Clusterval\n",
    "import warnings\n",
    "warnings.filterwarnings(\"ignore\")"
   ]
  },
  {
   "cell_type": "markdown",
   "id": "62861127",
   "metadata": {},
   "source": [
    "# Dataset Loading\n",
    "\n",
    "The Breast Cancer data set is a real-valued multivariate data that consists of two classes, where each class signifies whether a patient has breast cancer or not. The two categories are: malignant and benign.\n",
    "\n",
    "The malignant class has 212 samples, whereas the benign class has 357 samples.\n",
    "\n",
    "It has 30 features shared across all classes: radius, texture, perimeter, area, smoothness, fractal dimension, etc."
   ]
  },
  {
   "cell_type": "code",
   "execution_count": 2,
   "id": "2097f05d",
   "metadata": {
    "ExecuteTime": {
     "end_time": "2022-01-27T16:39:50.496642Z",
     "start_time": "2022-01-27T16:39:50.487443Z"
    }
   },
   "outputs": [],
   "source": [
    "breast_cancer = load_breast_cancer()"
   ]
  },
  {
   "cell_type": "code",
   "execution_count": 3,
   "id": "3ed907be",
   "metadata": {
    "ExecuteTime": {
     "end_time": "2022-01-27T16:39:50.501239Z",
     "start_time": "2022-01-27T16:39:50.497604Z"
    }
   },
   "outputs": [
    {
     "data": {
      "text/plain": [
       "dict_keys(['data', 'target', 'frame', 'target_names', 'DESCR', 'feature_names', 'filename', 'data_module'])"
      ]
     },
     "execution_count": 3,
     "metadata": {},
     "output_type": "execute_result"
    }
   ],
   "source": [
    "breast_cancer.keys()"
   ]
  },
  {
   "cell_type": "markdown",
   "id": "e58aca65",
   "metadata": {},
   "source": [
    "# About Dataset"
   ]
  },
  {
   "cell_type": "code",
   "execution_count": 4,
   "id": "f79344bc",
   "metadata": {
    "ExecuteTime": {
     "end_time": "2022-01-27T16:39:50.509058Z",
     "start_time": "2022-01-27T16:39:50.502603Z"
    }
   },
   "outputs": [
    {
     "name": "stdout",
     "output_type": "stream",
     "text": [
      ".. _breast_cancer_dataset:\n",
      "\n",
      "Breast cancer wisconsin (diagnostic) dataset\n",
      "--------------------------------------------\n",
      "\n",
      "**Data Set Characteristics:**\n",
      "\n",
      "    :Number of Instances: 569\n",
      "\n",
      "    :Number of Attributes: 30 numeric, predictive attributes and the class\n",
      "\n",
      "    :Attribute Information:\n",
      "        - radius (mean of distances from center to points on the perimeter)\n",
      "        - texture (standard deviation of gray-scale values)\n",
      "        - perimeter\n",
      "        - area\n",
      "        - smoothness (local variation in radius lengths)\n",
      "        - compactness (perimeter^2 / area - 1.0)\n",
      "        - concavity (severity of concave portions of the contour)\n",
      "        - concave points (number of concave portions of the contour)\n",
      "        - symmetry\n",
      "        - fractal dimension (\"coastline approximation\" - 1)\n",
      "\n",
      "        The mean, standard error, and \"worst\" or largest (mean of the three\n",
      "        worst/largest values) of these features were computed for each image,\n",
      "        resulting in 30 features.  For instance, field 0 is Mean Radius, field\n",
      "        10 is Radius SE, field 20 is Worst Radius.\n",
      "\n",
      "        - class:\n",
      "                - WDBC-Malignant\n",
      "                - WDBC-Benign\n",
      "\n",
      "    :Summary Statistics:\n",
      "\n",
      "    ===================================== ====== ======\n",
      "                                           Min    Max\n",
      "    ===================================== ====== ======\n",
      "    radius (mean):                        6.981  28.11\n",
      "    texture (mean):                       9.71   39.28\n",
      "    perimeter (mean):                     43.79  188.5\n",
      "    area (mean):                          143.5  2501.0\n",
      "    smoothness (mean):                    0.053  0.163\n",
      "    compactness (mean):                   0.019  0.345\n",
      "    concavity (mean):                     0.0    0.427\n",
      "    concave points (mean):                0.0    0.201\n",
      "    symmetry (mean):                      0.106  0.304\n",
      "    fractal dimension (mean):             0.05   0.097\n",
      "    radius (standard error):              0.112  2.873\n",
      "    texture (standard error):             0.36   4.885\n",
      "    perimeter (standard error):           0.757  21.98\n",
      "    area (standard error):                6.802  542.2\n",
      "    smoothness (standard error):          0.002  0.031\n",
      "    compactness (standard error):         0.002  0.135\n",
      "    concavity (standard error):           0.0    0.396\n",
      "    concave points (standard error):      0.0    0.053\n",
      "    symmetry (standard error):            0.008  0.079\n",
      "    fractal dimension (standard error):   0.001  0.03\n",
      "    radius (worst):                       7.93   36.04\n",
      "    texture (worst):                      12.02  49.54\n",
      "    perimeter (worst):                    50.41  251.2\n",
      "    area (worst):                         185.2  4254.0\n",
      "    smoothness (worst):                   0.071  0.223\n",
      "    compactness (worst):                  0.027  1.058\n",
      "    concavity (worst):                    0.0    1.252\n",
      "    concave points (worst):               0.0    0.291\n",
      "    symmetry (worst):                     0.156  0.664\n",
      "    fractal dimension (worst):            0.055  0.208\n",
      "    ===================================== ====== ======\n",
      "\n",
      "    :Missing Attribute Values: None\n",
      "\n",
      "    :Class Distribution: 212 - Malignant, 357 - Benign\n",
      "\n",
      "    :Creator:  Dr. William H. Wolberg, W. Nick Street, Olvi L. Mangasarian\n",
      "\n",
      "    :Donor: Nick Street\n",
      "\n",
      "    :Date: November, 1995\n",
      "\n",
      "This is a copy of UCI ML Breast Cancer Wisconsin (Diagnostic) datasets.\n",
      "https://goo.gl/U2Uwz2\n",
      "\n",
      "Features are computed from a digitized image of a fine needle\n",
      "aspirate (FNA) of a breast mass.  They describe\n",
      "characteristics of the cell nuclei present in the image.\n",
      "\n",
      "Separating plane described above was obtained using\n",
      "Multisurface Method-Tree (MSM-T) [K. P. Bennett, \"Decision Tree\n",
      "Construction Via Linear Programming.\" Proceedings of the 4th\n",
      "Midwest Artificial Intelligence and Cognitive Science Society,\n",
      "pp. 97-101, 1992], a classification method which uses linear\n",
      "programming to construct a decision tree.  Relevant features\n",
      "were selected using an exhaustive search in the space of 1-4\n",
      "features and 1-3 separating planes.\n",
      "\n",
      "The actual linear program used to obtain the separating plane\n",
      "in the 3-dimensional space is that described in:\n",
      "[K. P. Bennett and O. L. Mangasarian: \"Robust Linear\n",
      "Programming Discrimination of Two Linearly Inseparable Sets\",\n",
      "Optimization Methods and Software 1, 1992, 23-34].\n",
      "\n",
      "This database is also available through the UW CS ftp server:\n",
      "\n",
      "ftp ftp.cs.wisc.edu\n",
      "cd math-prog/cpo-dataset/machine-learn/WDBC/\n",
      "\n",
      ".. topic:: References\n",
      "\n",
      "   - W.N. Street, W.H. Wolberg and O.L. Mangasarian. Nuclear feature extraction \n",
      "     for breast tumor diagnosis. IS&T/SPIE 1993 International Symposium on \n",
      "     Electronic Imaging: Science and Technology, volume 1905, pages 861-870,\n",
      "     San Jose, CA, 1993.\n",
      "   - O.L. Mangasarian, W.N. Street and W.H. Wolberg. Breast cancer diagnosis and \n",
      "     prognosis via linear programming. Operations Research, 43(4), pages 570-577, \n",
      "     July-August 1995.\n",
      "   - W.H. Wolberg, W.N. Street, and O.L. Mangasarian. Machine learning techniques\n",
      "     to diagnose breast cancer from fine-needle aspirates. Cancer Letters 77 (1994) \n",
      "     163-171.\n"
     ]
    }
   ],
   "source": [
    "print(breast_cancer.DESCR)"
   ]
  },
  {
   "cell_type": "code",
   "execution_count": 5,
   "id": "42e13b4b",
   "metadata": {
    "ExecuteTime": {
     "end_time": "2022-01-27T16:39:50.513406Z",
     "start_time": "2022-01-27T16:39:50.510077Z"
    }
   },
   "outputs": [
    {
     "data": {
      "text/plain": [
       "((569, 30), (569,))"
      ]
     },
     "execution_count": 5,
     "metadata": {},
     "output_type": "execute_result"
    }
   ],
   "source": [
    "breast_cancer['data'].shape, breast_cancer['target'].shape"
   ]
  },
  {
   "cell_type": "code",
   "execution_count": 6,
   "id": "99209029",
   "metadata": {
    "ExecuteTime": {
     "end_time": "2022-01-27T16:39:50.516340Z",
     "start_time": "2022-01-27T16:39:50.514160Z"
    }
   },
   "outputs": [
    {
     "name": "stdout",
     "output_type": "stream",
     "text": [
      "unique target number:  [0 1]\n"
     ]
    }
   ],
   "source": [
    "print(\"unique target number: \",np.unique(breast_cancer['target']))"
   ]
  },
  {
   "cell_type": "code",
   "execution_count": 7,
   "id": "54df0213",
   "metadata": {
    "ExecuteTime": {
     "end_time": "2022-01-27T16:39:50.519437Z",
     "start_time": "2022-01-27T16:39:50.517085Z"
    }
   },
   "outputs": [],
   "source": [
    "X=breast_cancer.data\n",
    "labels=breast_cancer.target"
   ]
  },
  {
   "cell_type": "code",
   "execution_count": 8,
   "id": "eba76b32",
   "metadata": {
    "ExecuteTime": {
     "end_time": "2022-01-27T16:39:50.523766Z",
     "start_time": "2022-01-27T16:39:50.520924Z"
    }
   },
   "outputs": [],
   "source": [
    "from sklearn.preprocessing import StandardScaler\n",
    "scaler = StandardScaler()\n",
    "scaler.fit(X)\n",
    "X_scaled = scaler.transform(X)"
   ]
  },
  {
   "cell_type": "code",
   "execution_count": 9,
   "id": "1d71a714",
   "metadata": {
    "ExecuteTime": {
     "end_time": "2022-01-27T16:39:50.526985Z",
     "start_time": "2022-01-27T16:39:50.524661Z"
    }
   },
   "outputs": [
    {
     "data": {
      "text/plain": [
       "((569, 30), (569,))"
      ]
     },
     "execution_count": 9,
     "metadata": {},
     "output_type": "execute_result"
    }
   ],
   "source": [
    "X.shape, labels.shape"
   ]
  },
  {
   "cell_type": "code",
   "execution_count": 10,
   "id": "d510e793",
   "metadata": {
    "ExecuteTime": {
     "end_time": "2022-01-27T16:39:50.531504Z",
     "start_time": "2022-01-27T16:39:50.529367Z"
    }
   },
   "outputs": [
    {
     "data": {
      "text/plain": [
       "(569, 30)"
      ]
     },
     "execution_count": 10,
     "metadata": {},
     "output_type": "execute_result"
    }
   ],
   "source": [
    "X_scaled.shape"
   ]
  },
  {
   "cell_type": "markdown",
   "id": "ec6934dd",
   "metadata": {},
   "source": [
    "# Train-Test Split"
   ]
  },
  {
   "cell_type": "code",
   "execution_count": 11,
   "id": "e3928011",
   "metadata": {
    "ExecuteTime": {
     "end_time": "2022-01-27T16:39:50.535833Z",
     "start_time": "2022-01-27T16:39:50.532381Z"
    }
   },
   "outputs": [
    {
     "name": "stdout",
     "output_type": "stream",
     "text": [
      "X_train shape: (455, 30)\n",
      "y_train shape: (455,)\n"
     ]
    }
   ],
   "source": [
    "X_train, X_test, y_train, y_test=train_test_split(X_scaled, labels, test_size=0.2, stratify=labels, random_state=0)\n",
    "print(\"X_train shape:\",X_train.shape)\n",
    "print(\"y_train shape:\",y_train.shape)"
   ]
  },
  {
   "cell_type": "markdown",
   "id": "eb0e4981",
   "metadata": {},
   "source": [
    "# Dimensionality Reduction\n",
    "\n",
    "We will use ``Principal component analysis (PCA)``to eliminate features. \n",
    "\n",
    "It is a technique used to ``emphasize variation`` and ``bring out strong patterns`` in a dataset."
   ]
  },
  {
   "cell_type": "markdown",
   "id": "dea798ea",
   "metadata": {},
   "source": [
    "## Principal component analysis (PCA)"
   ]
  },
  {
   "cell_type": "code",
   "execution_count": 12,
   "id": "a0dde8b0",
   "metadata": {
    "ExecuteTime": {
     "end_time": "2022-01-27T16:39:50.641447Z",
     "start_time": "2022-01-27T16:39:50.536976Z"
    }
   },
   "outputs": [
    {
     "data": {
      "image/png": "[encoded data removed]",
      "text/plain": [
       "<Figure size 864x576 with 1 Axes>"
      ]
     },
     "metadata": {
      "needs_background": "light"
     },
     "output_type": "display_data"
    }
   ],
   "source": [
    "pca=PCA()\n",
    "pca.fit(X_scaled)\n",
    "plt.figure(1, figsize=(12,8))\n",
    "plt.plot(pca.explained_variance_, linewidth=2)\n",
    " \n",
    "plt.xlabel('No.of Components')\n",
    "plt.ylabel('Explained Variaces')\n",
    "plt.show()"
   ]
  },
  {
   "cell_type": "markdown",
   "id": "f11f0c42",
   "metadata": {},
   "source": [
    "**We can see above the values after around 2 are the same. This means that there are 2 important components that can describe the data well.**"
   ]
  },
  {
   "cell_type": "code",
   "execution_count": 13,
   "id": "1b19897d",
   "metadata": {
    "ExecuteTime": {
     "end_time": "2022-01-27T16:39:50.647994Z",
     "start_time": "2022-01-27T16:39:50.642743Z"
    }
   },
   "outputs": [
    {
     "data": {
      "text/plain": [
       "PCA(n_components=0.95, whiten=True)"
      ]
     },
     "execution_count": 13,
     "metadata": {},
     "output_type": "execute_result"
    }
   ],
   "source": [
    "#n_components=2\n",
    "pca=PCA(n_components=0.95, whiten=True)\n",
    "pca.fit(X_scaled)"
   ]
  },
  {
   "cell_type": "markdown",
   "id": "1e44366a",
   "metadata": {},
   "source": [
    "**Transform the training and testing sets using PCA**"
   ]
  },
  {
   "cell_type": "code",
   "execution_count": 14,
   "id": "b2f5cc06",
   "metadata": {
    "ExecuteTime": {
     "end_time": "2022-01-27T16:39:50.652331Z",
     "start_time": "2022-01-27T16:39:50.649192Z"
    }
   },
   "outputs": [
    {
     "name": "stdout",
     "output_type": "stream",
     "text": [
      "Shape before (455, 30) vs shape after (455, 10)\n"
     ]
    }
   ],
   "source": [
    "X_train_pca=pca.transform(X_train)\n",
    "X_test_pca=pca.transform(X_test)\n",
    "print(f\"Shape before {X_train.shape} vs shape after {X_train_pca.shape}\")"
   ]
  },
  {
   "cell_type": "markdown",
   "id": "442fd9ac",
   "metadata": {},
   "source": [
    "**So now we were able to decrease the dimension of the inputs.**"
   ]
  },
  {
   "cell_type": "markdown",
   "id": "b6eb8cf9",
   "metadata": {},
   "source": [
    "**LogisticRegression to study the accuracy of the model after we applied the PCA transformation.**"
   ]
  },
  {
   "cell_type": "code",
   "execution_count": 15,
   "id": "3c89f546",
   "metadata": {
    "ExecuteTime": {
     "end_time": "2022-01-27T16:39:50.660576Z",
     "start_time": "2022-01-27T16:39:50.653308Z"
    }
   },
   "outputs": [
    {
     "name": "stdout",
     "output_type": "stream",
     "text": [
      "Accuracy score:0.9649122807017544\n"
     ]
    }
   ],
   "source": [
    "clf = LogisticRegression()\n",
    "clf.fit(X_train_pca, y_train)\n",
    "y_pred = clf.predict(X_test_pca)\n",
    "print(f\"Accuracy score:{(metrics.accuracy_score(y_test, y_pred))}\")"
   ]
  },
  {
   "cell_type": "markdown",
   "id": "38202fef",
   "metadata": {},
   "source": [
    "# KMeans - silhouette score"
   ]
  },
  {
   "cell_type": "code",
   "execution_count": 16,
   "id": "1408de75",
   "metadata": {
    "ExecuteTime": {
     "end_time": "2022-01-27T16:39:51.357666Z",
     "start_time": "2022-01-27T16:39:50.661816Z"
    }
   },
   "outputs": [],
   "source": [
    "kmeans_per_k=[KMeans(n_clusters=k,random_state=42).fit(X_scaled) for k in range(2,15)]\n",
    "inertia=[model.inertia_ for model in kmeans_per_k]"
   ]
  },
  {
   "cell_type": "code",
   "execution_count": 17,
   "id": "72e58fff",
   "metadata": {
    "ExecuteTime": {
     "end_time": "2022-01-27T16:39:51.421789Z",
     "start_time": "2022-01-27T16:39:51.358785Z"
    }
   },
   "outputs": [
    {
     "data": {
      "text/plain": [
       "[<matplotlib.lines.Line2D at 0x7f78d3f53dc0>]"
      ]
     },
     "execution_count": 17,
     "metadata": {},
     "output_type": "execute_result"
    },
    {
     "data": {
      "image/png": "[encoded data removed]",
      "text/plain": [
       "<Figure size 432x288 with 1 Axes>"
      ]
     },
     "metadata": {
      "needs_background": "light"
     },
     "output_type": "display_data"
    }
   ],
   "source": [
    "plt.plot(range(2,15),inertia)"
   ]
  },
  {
   "cell_type": "code",
   "execution_count": 18,
   "id": "e782ff73",
   "metadata": {
    "ExecuteTime": {
     "end_time": "2022-01-27T16:39:51.490712Z",
     "start_time": "2022-01-27T16:39:51.423070Z"
    }
   },
   "outputs": [],
   "source": [
    "sil_score=[silhouette_score(X_scaled,model.labels_) for model in  kmeans_per_k[:]]"
   ]
  },
  {
   "cell_type": "code",
   "execution_count": 19,
   "id": "07b82084",
   "metadata": {
    "ExecuteTime": {
     "end_time": "2022-01-27T16:39:51.557759Z",
     "start_time": "2022-01-27T16:39:51.492190Z"
    }
   },
   "outputs": [
    {
     "data": {
      "text/plain": [
       "[<matplotlib.lines.Line2D at 0x7f78e10e5370>]"
      ]
     },
     "execution_count": 19,
     "metadata": {},
     "output_type": "execute_result"
    },
    {
     "data": {
      "image/png": "[encoded data removed]",
      "text/plain": [
       "<Figure size 432x288 with 1 Axes>"
      ]
     },
     "metadata": {
      "needs_background": "light"
     },
     "output_type": "display_data"
    }
   ],
   "source": [
    "plt.plot(range(2,15),sil_score)"
   ]
  },
  {
   "cell_type": "markdown",
   "id": "f140f4ed",
   "metadata": {},
   "source": [
    "## Using Clusterval to determine the optimal number of clusters"
   ]
  },
  {
   "cell_type": "code",
   "execution_count": 20,
   "id": "bfe97f68",
   "metadata": {
    "ExecuteTime": {
     "end_time": "2022-01-27T16:40:16.628430Z",
     "start_time": "2022-01-27T16:39:51.558796Z"
    }
   },
   "outputs": [
    {
     "data": {
      "text/plain": [
       "Clusterval( min_k=1, max_k=6, algorithm=kmeans, bootstrap_samples=200, index=['CVNN'])\n",
       "final_k = 2"
      ]
     },
     "execution_count": 20,
     "metadata": {},
     "output_type": "execute_result"
    }
   ],
   "source": [
    "c = Clusterval(min_k=1, max_k=6, algorithm='kmeans',bootstrap_samples=200, index='CVNN')\n",
    "c.evaluate(X)"
   ]
  },
  {
   "cell_type": "code",
   "execution_count": 21,
   "id": "0d2d7637",
   "metadata": {
    "ExecuteTime": {
     "end_time": "2022-01-27T16:40:16.631595Z",
     "start_time": "2022-01-27T16:40:16.629551Z"
    }
   },
   "outputs": [
    {
     "name": "stdout",
     "output_type": "stream",
     "text": [
      "* Minimum number of clusters to test: 1\n",
      "* Maximum number of clusters to test: 6\n",
      "* Number of bootstrap samples generated: 200\n",
      "* Clustering algorithm used: kmeans\n",
      "\n",
      "* Validation Indices calculated: ['CVNN']\n",
      "\n",
      "* Among all indices: \n",
      "\n",
      "\n",
      "\n",
      "* According to the majority rule, the best number of clusters is 2\n",
      "\n",
      "\n",
      "* 1 proposed 2 as the best number of clusters \n",
      "\n",
      "\t\t\t***** Conclusion *****\t\t\t\n",
      "       CVNN\n",
      "1  1.000000\n",
      "2  0.473738\n",
      "3  0.764280\n",
      "4  0.674387\n",
      "5  1.248981\n",
      "6  0.722807\n",
      "\n",
      "* The best partition is:\n",
      "[1 1 1 0 1 0 1 0 0 0 0 1 1 0 0 0 0 1 1 0 0 0 0 1 1 1 0 1 1 1 1 0 1 1 1 1 0\n",
      " 0 0 0 0 0 1 0 0 1 0 0 0 0 0 0 0 1 0 0 1 0 0 0 0 0 0 0 0 0 0 0 0 0 1 0 1 0\n",
      " 0 1 0 1 1 0 0 0 1 1 0 1 0 1 0 0 0 0 0 0 0 1 0 0 0 0 0 0 0 0 0 0 0 0 1 0 0\n",
      " 0 0 0 0 0 0 0 1 1 0 1 1 0 0 0 0 1 0 1 0 0 0 0 1 0 0 0 0 0 0 1 0 0 0 0 0 0\n",
      " 0 0 0 0 0 0 0 0 1 0 0 0 0 1 1 0 1 0 0 1 1 0 0 0 0 0 0 0 0 0 0 0 1 1 1 0 0\n",
      " 0 1 0 0 0 0 0 0 0 0 0 0 1 1 0 0 1 1 0 0 0 0 1 0 0 1 0 1 0 0 0 0 0 1 1 0 0\n",
      " 0 0 0 0 0 0 0 0 1 0 0 1 0 0 1 1 0 1 0 0 0 0 1 0 0 0 0 0 1 0 1 1 1 0 1 0 1\n",
      " 0 1 1 1 0 1 1 0 0 0 0 0 0 1 0 1 0 0 1 0 0 1 0 1 0 0 0 0 0 0 0 0 0 0 0 0 0\n",
      " 0 0 0 0 1 0 1 0 0 0 0 0 0 0 0 0 0 0 0 0 0 1 0 0 0 1 0 1 0 0 0 0 0 0 0 0 0\n",
      " 0 0 1 0 1 0 1 0 0 0 1 0 0 0 0 0 0 0 0 1 0 0 0 0 0 0 0 0 0 0 0 0 1 1 0 1 1\n",
      " 0 0 1 1 0 0 0 0 0 0 0 0 0 0 0 0 0 0 0 1 0 0 1 1 0 0 0 0 0 0 1 0 0 0 0 0 0\n",
      " 0 1 0 0 0 0 0 0 0 0 1 0 0 0 0 0 0 0 0 0 0 0 0 0 0 1 1 0 0 0 0 0 0 0 1 0 0\n",
      " 1 0 1 0 0 1 0 1 0 0 0 0 0 0 0 0 1 1 0 0 0 0 0 0 1 0 0 0 0 0 0 0 0 0 0 0 0\n",
      " 0 0 0 0 0 0 1 0 0 0 1 1 0 0 0 0 0 1 1 0 0 0 1 0 0 0 0 0 0 0 0 0 0 0 0 1 1\n",
      " 0 0 0 1 0 0 0 0 0 0 0 0 0 0 0 1 0 1 0 0 0 0 0 0 0 0 0 0 0 0 0 0 0 0 0 0 0\n",
      " 0 0 0 0 0 0 0 0 1 1 1 0 1 0]\n",
      "\n"
     ]
    }
   ],
   "source": [
    "print(c.long_info)"
   ]
  },
  {
   "cell_type": "markdown",
   "id": "406c3a59",
   "metadata": {},
   "source": [
    "**According to the Clusterval majority rule using kmeans algorithm, the best number of clusters is 2**"
   ]
  },
  {
   "cell_type": "code",
   "execution_count": 22,
   "id": "b9f4e9db",
   "metadata": {
    "ExecuteTime": {
     "end_time": "2022-01-27T16:40:16.661370Z",
     "start_time": "2022-01-27T16:40:16.632500Z"
    }
   },
   "outputs": [],
   "source": [
    "Kmean = KMeans(n_clusters=2)\n",
    "Kmean.fit(X_scaled)\n",
    "y_pred=Kmean.predict(X_scaled)"
   ]
  },
  {
   "cell_type": "code",
   "execution_count": 23,
   "id": "3abd5200",
   "metadata": {
    "ExecuteTime": {
     "end_time": "2022-01-27T16:40:16.666442Z",
     "start_time": "2022-01-27T16:40:16.662427Z"
    }
   },
   "outputs": [
    {
     "data": {
      "text/plain": [
       "array([1, 1, 1, 1, 1, 1, 1, 1, 1, 1, 0, 1, 1, 0, 1, 1, 0, 1, 1, 0, 0, 0,\n",
       "       1, 1, 1, 1, 1, 1, 1, 1, 1, 1, 1, 1, 1, 1, 1, 0, 0, 0, 0, 0, 1, 0,\n",
       "       0, 1, 0, 1, 0, 0, 0, 0, 0, 1, 0, 0, 1, 1, 0, 0, 0, 0, 1, 0, 1, 1,\n",
       "       0, 0, 1, 0, 1, 0, 1, 0, 0, 1, 0, 1, 1, 0, 0, 1, 1, 1, 0, 1, 0, 1,\n",
       "       0, 1, 0, 0, 0, 0, 1, 1, 0, 0, 0, 0, 0, 0, 0, 0, 0, 1, 0, 0, 1, 0,\n",
       "       0, 0, 1, 0, 0, 0, 0, 1, 1, 0, 0, 1, 1, 0, 0, 0, 0, 1, 1, 1, 0, 1,\n",
       "       1, 0, 1, 0, 0, 0, 1, 0, 0, 1, 0, 0, 0, 0, 1, 0, 0, 0, 0, 0, 1, 0,\n",
       "       0, 0, 1, 0, 0, 0, 0, 1, 1, 0, 1, 0, 0, 1, 1, 0, 0, 0, 1, 0, 0, 0,\n",
       "       0, 1, 0, 0, 1, 1, 0, 0, 0, 0, 0, 0, 0, 0, 1, 0, 0, 1, 1, 0, 1, 1,\n",
       "       1, 1, 0, 1, 1, 1, 0, 0, 0, 0, 0, 0, 1, 0, 1, 1, 1, 1, 0, 0, 1, 1,\n",
       "       0, 0, 0, 1, 0, 0, 0, 0, 0, 1, 1, 0, 0, 1, 0, 0, 1, 1, 0, 1, 0, 0,\n",
       "       1, 0, 1, 0, 0, 0, 0, 0, 1, 0, 1, 1, 1, 0, 1, 1, 1, 1, 1, 0, 1, 0,\n",
       "       1, 1, 0, 0, 0, 0, 0, 0, 1, 0, 0, 0, 0, 0, 0, 0, 1, 0, 1, 1, 0, 0,\n",
       "       0, 0, 0, 0, 1, 0, 0, 0, 0, 0, 0, 0, 0, 0, 1, 0, 1, 0, 0, 0, 0, 0,\n",
       "       0, 0, 0, 0, 0, 0, 0, 0, 0, 1, 1, 0, 0, 1, 0, 1, 0, 0, 0, 0, 1, 1,\n",
       "       1, 0, 0, 0, 0, 1, 0, 1, 0, 1, 0, 0, 0, 1, 0, 0, 0, 0, 0, 0, 0, 1,\n",
       "       1, 1, 0, 0, 0, 0, 0, 0, 0, 0, 0, 0, 0, 1, 1, 0, 1, 1, 1, 0, 1, 1,\n",
       "       0, 0, 1, 0, 0, 1, 0, 0, 0, 0, 0, 0, 0, 0, 0, 1, 0, 0, 1, 1, 0, 0,\n",
       "       0, 0, 0, 0, 1, 0, 0, 0, 0, 0, 0, 0, 1, 0, 0, 0, 0, 0, 0, 0, 0, 1,\n",
       "       0, 0, 0, 1, 0, 0, 0, 0, 0, 0, 0, 0, 1, 0, 1, 1, 0, 0, 0, 0, 0, 0,\n",
       "       0, 1, 0, 0, 0, 0, 1, 0, 0, 1, 0, 1, 0, 0, 0, 0, 0, 0, 0, 0, 1, 1,\n",
       "       0, 0, 0, 1, 0, 0, 1, 0, 0, 0, 0, 0, 0, 0, 0, 0, 0, 1, 0, 0, 0, 0,\n",
       "       0, 1, 0, 1, 0, 0, 0, 0, 1, 0, 0, 0, 0, 0, 1, 1, 0, 1, 0, 1, 1, 0,\n",
       "       0, 0, 0, 1, 0, 0, 1, 0, 0, 0, 1, 1, 0, 0, 0, 1, 0, 0, 0, 0, 0, 0,\n",
       "       0, 0, 0, 0, 0, 1, 0, 1, 0, 0, 0, 0, 0, 0, 0, 0, 0, 0, 0, 0, 0, 0,\n",
       "       0, 0, 0, 0, 0, 0, 0, 0, 0, 0, 0, 0, 1, 1, 1, 1, 1, 1, 0],\n",
       "      dtype=int32)"
      ]
     },
     "execution_count": 23,
     "metadata": {},
     "output_type": "execute_result"
    }
   ],
   "source": [
    "# kmean will give you the label according to the index ( has to do with the cluster)\n",
    "y_pred"
   ]
  },
  {
   "cell_type": "code",
   "execution_count": 24,
   "id": "6382b7df",
   "metadata": {
    "ExecuteTime": {
     "end_time": "2022-01-27T16:40:16.672113Z",
     "start_time": "2022-01-27T16:40:16.668299Z"
    }
   },
   "outputs": [
    {
     "data": {
      "text/plain": [
       "array([1, 1, 1, 1, 1, 1, 1, 1, 1, 1, 0, 1, 1, 0, 1, 1, 0, 1, 1, 0, 0, 0,\n",
       "       1, 1, 1, 1, 1, 1, 1, 1, 1, 1, 1, 1, 1, 1, 1, 0, 0, 0, 0, 0, 1, 0,\n",
       "       0, 1, 0, 1, 0, 0, 0, 0, 0, 1, 0, 0, 1, 1, 0, 0, 0, 0, 1, 0, 1, 1,\n",
       "       0, 0, 1, 0, 1, 0, 1, 0, 0, 1, 0, 1, 1, 0, 0, 1, 1, 1, 0, 1, 0, 1,\n",
       "       0, 1, 0, 0, 0, 0, 1, 1, 0, 0, 0, 0, 0, 0, 0, 0, 0, 1, 0, 0, 1, 0,\n",
       "       0, 0, 1, 0, 0, 0, 0, 1, 1, 0, 0, 1, 1, 0, 0, 0, 0, 1, 1, 1, 0, 1,\n",
       "       1, 0, 1, 0, 0, 0, 1, 0, 0, 1, 0, 0, 0, 0, 1, 0, 0, 0, 0, 0, 1, 0,\n",
       "       0, 0, 1, 0, 0, 0, 0, 1, 1, 0, 1, 0, 0, 1, 1, 0, 0, 0, 1, 0, 0, 0,\n",
       "       0, 1, 0, 0, 1, 1, 0, 0, 0, 0, 0, 0, 0, 0, 1, 0, 0, 1, 1, 0, 1, 1,\n",
       "       1, 1, 0, 1, 1, 1, 0, 0, 0, 0, 0, 0, 1, 0, 1, 1, 1, 1, 0, 0, 1, 1,\n",
       "       0, 0, 0, 1, 0, 0, 0, 0, 0, 1, 1, 0, 0, 1, 0, 0, 1, 1, 0, 1, 0, 0,\n",
       "       1, 0, 1, 0, 0, 0, 0, 0, 1, 0, 1, 1, 1, 0, 1, 1, 1, 1, 1, 0, 1, 0,\n",
       "       1, 1, 0, 0, 0, 0, 0, 0, 1, 0, 0, 0, 0, 0, 0, 0, 1, 0, 1, 1, 0, 0,\n",
       "       0, 0, 0, 0, 1, 0, 0, 0, 0, 0, 0, 0, 0, 0, 1, 0, 1, 0, 0, 0, 0, 0,\n",
       "       0, 0, 0, 0, 0, 0, 0, 0, 0, 1, 1, 0, 0, 1, 0, 1, 0, 0, 0, 0, 1, 1,\n",
       "       1, 0, 0, 0, 0, 1, 0, 1, 0, 1, 0, 0, 0, 1, 0, 0, 0, 0, 0, 0, 0, 1,\n",
       "       1, 1, 0, 0, 0, 0, 0, 0, 0, 0, 0, 0, 0, 1, 1, 0, 1, 1, 1, 0, 1, 1,\n",
       "       0, 0, 1, 0, 0, 1, 0, 0, 0, 0, 0, 0, 0, 0, 0, 1, 0, 0, 1, 1, 0, 0,\n",
       "       0, 0, 0, 0, 1, 0, 0, 0, 0, 0, 0, 0, 1, 0, 0, 0, 0, 0, 0, 0, 0, 1,\n",
       "       0, 0, 0, 1, 0, 0, 0, 0, 0, 0, 0, 0, 1, 0, 1, 1, 0, 0, 0, 0, 0, 0,\n",
       "       0, 1, 0, 0, 0, 0, 1, 0, 0, 1, 0, 1, 0, 0, 0, 0, 0, 0, 0, 0, 1, 1,\n",
       "       0, 0, 0, 1, 0, 0, 1, 0, 0, 0, 0, 0, 0, 0, 0, 0, 0, 1, 0, 0, 0, 0,\n",
       "       0, 1, 0, 1, 0, 0, 0, 0, 1, 0, 0, 0, 0, 0, 1, 1, 0, 1, 0, 1, 1, 0,\n",
       "       0, 0, 0, 1, 0, 0, 1, 0, 0, 0, 1, 1, 0, 0, 0, 1, 0, 0, 0, 0, 0, 0,\n",
       "       0, 0, 0, 0, 0, 1, 0, 1, 0, 0, 0, 0, 0, 0, 0, 0, 0, 0, 0, 0, 0, 0,\n",
       "       0, 0, 0, 0, 0, 0, 0, 0, 0, 0, 0, 0, 1, 1, 1, 1, 1, 1, 0],\n",
       "      dtype=int32)"
      ]
     },
     "execution_count": 24,
     "metadata": {},
     "output_type": "execute_result"
    }
   ],
   "source": [
    "# we can use attribute like labels_ to get the index given by the model\n",
    "Kmean.labels_"
   ]
  },
  {
   "cell_type": "code",
   "execution_count": 25,
   "id": "ed001ede",
   "metadata": {
    "ExecuteTime": {
     "end_time": "2022-01-27T16:40:16.676791Z",
     "start_time": "2022-01-27T16:40:16.673415Z"
    }
   },
   "outputs": [
    {
     "data": {
      "text/plain": [
       "True"
      ]
     },
     "execution_count": 25,
     "metadata": {},
     "output_type": "execute_result"
    }
   ],
   "source": [
    "np.allclose(y_pred,Kmean.labels_)"
   ]
  },
  {
   "cell_type": "markdown",
   "id": "bfc3b6e5",
   "metadata": {},
   "source": [
    "**Both y_pred and labels are same**"
   ]
  },
  {
   "cell_type": "markdown",
   "id": "42c7129f",
   "metadata": {},
   "source": [
    "# Clustering for the Preprocessing"
   ]
  },
  {
   "cell_type": "markdown",
   "id": "01e0aaf6",
   "metadata": {},
   "source": [
    "## logreg"
   ]
  },
  {
   "cell_type": "code",
   "execution_count": 26,
   "id": "11080032",
   "metadata": {
    "ExecuteTime": {
     "end_time": "2022-01-27T16:40:16.690416Z",
     "start_time": "2022-01-27T16:40:16.678084Z"
    }
   },
   "outputs": [
    {
     "data": {
      "text/plain": [
       "LogisticRegression(C=0.1, max_iter=2000, multi_class='ovr', random_state=42)"
      ]
     },
     "execution_count": 26,
     "metadata": {},
     "output_type": "execute_result"
    }
   ],
   "source": [
    "log_reg=LogisticRegression(multi_class=\"ovr\",random_state=42,max_iter=2000,C=0.1)\n",
    "log_reg.fit(X_train,y_train)"
   ]
  },
  {
   "cell_type": "code",
   "execution_count": 27,
   "id": "ffa25341",
   "metadata": {
    "ExecuteTime": {
     "end_time": "2022-01-27T16:40:16.694681Z",
     "start_time": "2022-01-27T16:40:16.691430Z"
    }
   },
   "outputs": [
    {
     "name": "stdout",
     "output_type": "stream",
     "text": [
      "training score 0.9846153846153847\n",
      "test score 0.9649122807017544\n"
     ]
    }
   ],
   "source": [
    "print(f\"training score {log_reg.score(X_train,y_train)}\")\n",
    "print(f\"test score {log_reg.score(X_test,y_test)}\")"
   ]
  },
  {
   "cell_type": "markdown",
   "id": "c2ec11ff",
   "metadata": {},
   "source": [
    "## apply clustering for the preprocessing"
   ]
  },
  {
   "cell_type": "code",
   "execution_count": 28,
   "id": "eb5e1361",
   "metadata": {
    "ExecuteTime": {
     "end_time": "2022-01-27T16:40:17.205380Z",
     "start_time": "2022-01-27T16:40:16.702379Z"
    }
   },
   "outputs": [],
   "source": [
    "score=[]\n",
    "for i in range(2,15):\n",
    "    model=KMeans(n_clusters=i)\n",
    "    model.fit(X_train)\n",
    "    score.append(model.inertia_)"
   ]
  },
  {
   "cell_type": "code",
   "execution_count": 29,
   "id": "d2685141",
   "metadata": {
    "ExecuteTime": {
     "end_time": "2022-01-27T16:40:17.267235Z",
     "start_time": "2022-01-27T16:40:17.206308Z"
    }
   },
   "outputs": [
    {
     "data": {
      "text/plain": [
       "[<matplotlib.lines.Line2D at 0x7f78d65c0250>]"
      ]
     },
     "execution_count": 29,
     "metadata": {},
     "output_type": "execute_result"
    },
    {
     "data": {
      "image/png": "[encoded data removed]",
      "text/plain": [
       "<Figure size 432x288 with 1 Axes>"
      ]
     },
     "metadata": {
      "needs_background": "light"
     },
     "output_type": "display_data"
    }
   ],
   "source": [
    "plt.plot(range(2,15),score)"
   ]
  },
  {
   "cell_type": "code",
   "execution_count": 30,
   "id": "c2bba70d",
   "metadata": {
    "ExecuteTime": {
     "end_time": "2022-01-27T16:40:17.822476Z",
     "start_time": "2022-01-27T16:40:17.268602Z"
    }
   },
   "outputs": [],
   "source": [
    "sil_score=[]\n",
    "for i in range(2,15):\n",
    "    model=KMeans(n_clusters=i)\n",
    "    model.fit(X_train)\n",
    "    sil_score.append(silhouette_score(X_train,model.labels_))"
   ]
  },
  {
   "cell_type": "code",
   "execution_count": 31,
   "id": "2d27a61b",
   "metadata": {
    "ExecuteTime": {
     "end_time": "2022-01-27T16:40:17.887965Z",
     "start_time": "2022-01-27T16:40:17.823402Z"
    }
   },
   "outputs": [
    {
     "data": {
      "text/plain": [
       "[<matplotlib.lines.Line2D at 0x7f79007b2d00>]"
      ]
     },
     "execution_count": 31,
     "metadata": {},
     "output_type": "execute_result"
    },
    {
     "data": {
      "image/png": "[encoded data removed]",
      "text/plain": [
       "<Figure size 432x288 with 1 Axes>"
      ]
     },
     "metadata": {
      "needs_background": "light"
     },
     "output_type": "display_data"
    }
   ],
   "source": [
    "plt.plot(range(2,15),sil_score)"
   ]
  },
  {
   "cell_type": "markdown",
   "id": "38646ae5",
   "metadata": {},
   "source": [
    "## with k=2"
   ]
  },
  {
   "cell_type": "code",
   "execution_count": 32,
   "id": "9786629a",
   "metadata": {
    "ExecuteTime": {
     "end_time": "2022-01-27T16:40:17.920206Z",
     "start_time": "2022-01-27T16:40:17.889209Z"
    }
   },
   "outputs": [
    {
     "data": {
      "text/plain": [
       "Pipeline(steps=[('Kmean', KMeans(n_clusters=2, random_state=42)),\n",
       "                ('logreg',\n",
       "                 LogisticRegression(max_iter=2000, multi_class='ovr',\n",
       "                                    random_state=42))])"
      ]
     },
     "execution_count": 32,
     "metadata": {},
     "output_type": "execute_result"
    }
   ],
   "source": [
    "pipe=Pipeline([\n",
    "    (\"Kmean\",KMeans(n_clusters=2,random_state=42)),\n",
    "    (\"logreg\",LogisticRegression(max_iter=2000,random_state=42,multi_class=\"ovr\"))\n",
    "])\n",
    "pipe.fit(X_train,y_train)"
   ]
  },
  {
   "cell_type": "code",
   "execution_count": 33,
   "id": "853877a2",
   "metadata": {
    "ExecuteTime": {
     "end_time": "2022-01-27T16:40:17.924919Z",
     "start_time": "2022-01-27T16:40:17.921193Z"
    }
   },
   "outputs": [
    {
     "name": "stdout",
     "output_type": "stream",
     "text": [
      "0.9428571428571428\n",
      "0.9298245614035088\n"
     ]
    }
   ],
   "source": [
    "print(pipe.score(X_train,y_train))\n",
    "print(pipe.score(X_test,y_test))"
   ]
  },
  {
   "cell_type": "markdown",
   "id": "d541fc27",
   "metadata": {},
   "source": [
    "## with k=3"
   ]
  },
  {
   "cell_type": "code",
   "execution_count": 34,
   "id": "6a2dc26a",
   "metadata": {
    "ExecuteTime": {
     "end_time": "2022-01-27T16:40:17.961199Z",
     "start_time": "2022-01-27T16:40:17.925917Z"
    }
   },
   "outputs": [
    {
     "data": {
      "text/plain": [
       "Pipeline(steps=[('Kmean', KMeans(n_clusters=3, random_state=42)),\n",
       "                ('logreg',\n",
       "                 LogisticRegression(max_iter=2000, multi_class='ovr',\n",
       "                                    random_state=42))])"
      ]
     },
     "execution_count": 34,
     "metadata": {},
     "output_type": "execute_result"
    }
   ],
   "source": [
    "pipe=Pipeline([\n",
    "    (\"Kmean\",KMeans(n_clusters=3,random_state=42)),\n",
    "    (\"logreg\",LogisticRegression(max_iter=2000,random_state=42,multi_class=\"ovr\"))\n",
    "])\n",
    "pipe.fit(X_train,y_train)"
   ]
  },
  {
   "cell_type": "code",
   "execution_count": 35,
   "id": "39bffe78",
   "metadata": {
    "ExecuteTime": {
     "end_time": "2022-01-27T16:40:17.965903Z",
     "start_time": "2022-01-27T16:40:17.962310Z"
    }
   },
   "outputs": [
    {
     "name": "stdout",
     "output_type": "stream",
     "text": [
      "0.9538461538461539\n",
      "0.9298245614035088\n"
     ]
    }
   ],
   "source": [
    "print(pipe.score(X_train,y_train))\n",
    "print(pipe.score(X_test,y_test))"
   ]
  },
  {
   "cell_type": "markdown",
   "id": "7b82ccf5",
   "metadata": {},
   "source": [
    "## with k=10"
   ]
  },
  {
   "cell_type": "code",
   "execution_count": 36,
   "id": "1caa0162",
   "metadata": {
    "ExecuteTime": {
     "end_time": "2022-01-27T16:40:18.032051Z",
     "start_time": "2022-01-27T16:40:17.966738Z"
    }
   },
   "outputs": [
    {
     "data": {
      "text/plain": [
       "Pipeline(steps=[('Kmean', KMeans(n_clusters=10, random_state=42)),\n",
       "                ('logreg',\n",
       "                 LogisticRegression(max_iter=2000, multi_class='ovr',\n",
       "                                    random_state=42))])"
      ]
     },
     "execution_count": 36,
     "metadata": {},
     "output_type": "execute_result"
    }
   ],
   "source": [
    "pipe=Pipeline([\n",
    "    (\"Kmean\",KMeans(n_clusters=10,random_state=42)),\n",
    "    (\"logreg\",LogisticRegression(max_iter=2000,random_state=42,multi_class=\"ovr\"))\n",
    "])\n",
    "pipe.fit(X_train,y_train)"
   ]
  },
  {
   "cell_type": "code",
   "execution_count": 37,
   "id": "f5b557c8",
   "metadata": {
    "ExecuteTime": {
     "end_time": "2022-01-27T16:40:18.037237Z",
     "start_time": "2022-01-27T16:40:18.033005Z"
    }
   },
   "outputs": [
    {
     "name": "stdout",
     "output_type": "stream",
     "text": [
      "0.9714285714285714\n",
      "0.9473684210526315\n"
     ]
    }
   ],
   "source": [
    "print(pipe.score(X_train,y_train))\n",
    "print(pipe.score(X_test,y_test))"
   ]
  },
  {
   "cell_type": "markdown",
   "id": "8cd05141",
   "metadata": {},
   "source": [
    "## GridSearchCV"
   ]
  },
  {
   "cell_type": "code",
   "execution_count": 38,
   "id": "c1b89a0e",
   "metadata": {
    "ExecuteTime": {
     "end_time": "2022-01-27T16:40:20.332381Z",
     "start_time": "2022-01-27T16:40:18.038268Z"
    }
   },
   "outputs": [
    {
     "data": {
      "text/plain": [
       "GridSearchCV(cv=3,\n",
       "             estimator=Pipeline(steps=[('Kmean',\n",
       "                                        KMeans(n_clusters=10, random_state=42)),\n",
       "                                       ('logreg',\n",
       "                                        LogisticRegression(max_iter=2000,\n",
       "                                                           multi_class='ovr',\n",
       "                                                           random_state=42))]),\n",
       "             n_jobs=-1, param_grid={'Kmean__n_clusters': range(2, 15)})"
      ]
     },
     "execution_count": 38,
     "metadata": {},
     "output_type": "execute_result"
    }
   ],
   "source": [
    "from sklearn.model_selection import GridSearchCV\n",
    "param={\"Kmean__n_clusters\":range(2,15)}\n",
    "      #\"logreg__C\":[0.001,0.01,10]}\n",
    "grid=GridSearchCV(pipe,param_grid=param,cv=3,n_jobs=-1)\n",
    "grid.fit(X_train,y_train)"
   ]
  },
  {
   "cell_type": "code",
   "execution_count": 39,
   "id": "018a35d8",
   "metadata": {
    "ExecuteTime": {
     "end_time": "2022-01-27T16:40:20.337800Z",
     "start_time": "2022-01-27T16:40:20.333594Z"
    }
   },
   "outputs": [
    {
     "data": {
      "text/plain": [
       "Pipeline(steps=[('Kmean', KMeans(n_clusters=9, random_state=42)),\n",
       "                ('logreg',\n",
       "                 LogisticRegression(max_iter=2000, multi_class='ovr',\n",
       "                                    random_state=42))])"
      ]
     },
     "execution_count": 39,
     "metadata": {},
     "output_type": "execute_result"
    }
   ],
   "source": [
    "grid.best_estimator_"
   ]
  },
  {
   "cell_type": "code",
   "execution_count": 40,
   "id": "cd942ef0",
   "metadata": {
    "ExecuteTime": {
     "end_time": "2022-01-27T16:40:20.351192Z",
     "start_time": "2022-01-27T16:40:20.338829Z"
    }
   },
   "outputs": [
    {
     "data": {
      "text/plain": [
       "0.9692256303009179"
      ]
     },
     "execution_count": 40,
     "metadata": {},
     "output_type": "execute_result"
    }
   ],
   "source": [
    "grid.best_score_"
   ]
  },
  {
   "cell_type": "code",
   "execution_count": 41,
   "id": "77141ecc",
   "metadata": {
    "ExecuteTime": {
     "end_time": "2022-01-27T16:40:20.356173Z",
     "start_time": "2022-01-27T16:40:20.352441Z"
    }
   },
   "outputs": [
    {
     "data": {
      "text/plain": [
       "0.9714285714285714"
      ]
     },
     "execution_count": 41,
     "metadata": {},
     "output_type": "execute_result"
    }
   ],
   "source": [
    "grid.score(X_train,y_train)"
   ]
  },
  {
   "cell_type": "code",
   "execution_count": 42,
   "id": "475a47e1",
   "metadata": {
    "ExecuteTime": {
     "end_time": "2022-01-27T16:40:20.360976Z",
     "start_time": "2022-01-27T16:40:20.357255Z"
    }
   },
   "outputs": [
    {
     "data": {
      "text/plain": [
       "0.9473684210526315"
      ]
     },
     "execution_count": 42,
     "metadata": {},
     "output_type": "execute_result"
    }
   ],
   "source": [
    "grid.score(X_test,y_test)"
   ]
  },
  {
   "cell_type": "code",
   "execution_count": 43,
   "id": "548c7e87",
   "metadata": {
    "ExecuteTime": {
     "end_time": "2022-01-27T16:40:20.365124Z",
     "start_time": "2022-01-27T16:40:20.362265Z"
    }
   },
   "outputs": [
    {
     "data": {
      "text/plain": [
       "{'Kmean__n_clusters': 9}"
      ]
     },
     "execution_count": 43,
     "metadata": {},
     "output_type": "execute_result"
    }
   ],
   "source": [
    "grid.best_params_"
   ]
  },
  {
   "cell_type": "markdown",
   "id": "05c48c11",
   "metadata": {},
   "source": [
    "**According to GridSearchCV, 9 is the best number of clusters**"
   ]
  },
  {
   "cell_type": "markdown",
   "id": "c62a0a4d",
   "metadata": {},
   "source": [
    "## apply PCA+KMeans+logreg"
   ]
  },
  {
   "cell_type": "code",
   "execution_count": 44,
   "id": "05830841",
   "metadata": {
    "ExecuteTime": {
     "end_time": "2022-01-27T16:40:20.430066Z",
     "start_time": "2022-01-27T16:40:20.366453Z"
    }
   },
   "outputs": [
    {
     "data": {
      "text/plain": [
       "Pipeline(steps=[('pca', PCA(n_components=0.95)),\n",
       "                ('Kmean', KMeans(n_clusters=9, random_state=42)),\n",
       "                ('logreg',\n",
       "                 LogisticRegression(C=0.1, max_iter=2000, multi_class='ovr',\n",
       "                                    random_state=42))])"
      ]
     },
     "execution_count": 44,
     "metadata": {},
     "output_type": "execute_result"
    }
   ],
   "source": [
    "pipe=Pipeline([\n",
    "    (\"pca\",PCA(n_components=0.95)),\n",
    "    (\"Kmean\",KMeans(n_clusters=9,random_state=42)),\n",
    "    (\"logreg\",LogisticRegression(max_iter=2000,random_state=42,multi_class=\"ovr\",C=0.1))\n",
    "])\n",
    "pipe.fit(X_train,y_train)"
   ]
  },
  {
   "cell_type": "code",
   "execution_count": 45,
   "id": "3571e6a0",
   "metadata": {
    "ExecuteTime": {
     "end_time": "2022-01-27T16:40:20.435779Z",
     "start_time": "2022-01-27T16:40:20.431156Z"
    }
   },
   "outputs": [
    {
     "name": "stdout",
     "output_type": "stream",
     "text": [
      "0.9692307692307692\n",
      "0.9473684210526315\n"
     ]
    }
   ],
   "source": [
    "print(pipe.score(X_train,y_train))\n",
    "print(pipe.score(X_test,y_test))"
   ]
  },
  {
   "cell_type": "markdown",
   "id": "85f4b739",
   "metadata": {},
   "source": [
    "# Semi-supervised Learning"
   ]
  },
  {
   "cell_type": "markdown",
   "id": "320cbdb5",
   "metadata": {},
   "source": [
    "**lets consider only we have 50 of the training label for supervised task**"
   ]
  },
  {
   "cell_type": "code",
   "execution_count": 46,
   "id": "c9eccb6f",
   "metadata": {
    "ExecuteTime": {
     "end_time": "2022-01-27T16:40:20.438720Z",
     "start_time": "2022-01-27T16:40:20.436947Z"
    }
   },
   "outputs": [],
   "source": [
    "labeled_data=50"
   ]
  },
  {
   "cell_type": "code",
   "execution_count": 47,
   "id": "ffe143ba",
   "metadata": {
    "ExecuteTime": {
     "end_time": "2022-01-27T16:40:20.443019Z",
     "start_time": "2022-01-27T16:40:20.439884Z"
    }
   },
   "outputs": [
    {
     "data": {
      "text/plain": [
       "(array([0, 1]), array([18, 32]))"
      ]
     },
     "execution_count": 47,
     "metadata": {},
     "output_type": "execute_result"
    }
   ],
   "source": [
    "np.unique(y_train[:labeled_data],return_counts=True)"
   ]
  },
  {
   "cell_type": "code",
   "execution_count": 48,
   "id": "6e1b8d8d",
   "metadata": {
    "ExecuteTime": {
     "end_time": "2022-01-27T16:40:20.451211Z",
     "start_time": "2022-01-27T16:40:20.444245Z"
    }
   },
   "outputs": [
    {
     "data": {
      "text/plain": [
       "LogisticRegression(C=0.1, max_iter=2000, multi_class='ovr', random_state=42)"
      ]
     },
     "execution_count": 48,
     "metadata": {},
     "output_type": "execute_result"
    }
   ],
   "source": [
    "log_reg=LogisticRegression(random_state=42,multi_class=\"ovr\",max_iter=2000,C=0.1)\n",
    "log_reg.fit(X_train[:labeled_data],y_train[:labeled_data])"
   ]
  },
  {
   "cell_type": "code",
   "execution_count": 49,
   "id": "3709a3cd",
   "metadata": {
    "ExecuteTime": {
     "end_time": "2022-01-27T16:40:20.456030Z",
     "start_time": "2022-01-27T16:40:20.452836Z"
    }
   },
   "outputs": [
    {
     "name": "stdout",
     "output_type": "stream",
     "text": [
      "0.9626373626373627\n",
      "0.9385964912280702\n"
     ]
    }
   ],
   "source": [
    "print(log_reg.score(X_train,y_train))\n",
    "print(log_reg.score(X_test,y_test))"
   ]
  },
  {
   "cell_type": "code",
   "execution_count": 50,
   "id": "e20bb31c",
   "metadata": {
    "ExecuteTime": {
     "end_time": "2022-01-27T16:40:20.463789Z",
     "start_time": "2022-01-27T16:40:20.457668Z"
    }
   },
   "outputs": [
    {
     "name": "stdout",
     "output_type": "stream",
     "text": [
      "              precision    recall  f1-score   support\n",
      "\n",
      "           0       0.95      0.88      0.91        42\n",
      "           1       0.93      0.97      0.95        72\n",
      "\n",
      "    accuracy                           0.94       114\n",
      "   macro avg       0.94      0.93      0.93       114\n",
      "weighted avg       0.94      0.94      0.94       114\n",
      "\n"
     ]
    }
   ],
   "source": [
    "print(classification_report(y_test,log_reg.predict(X_test)))"
   ]
  },
  {
   "cell_type": "markdown",
   "id": "2a53dcf3",
   "metadata": {},
   "source": [
    "## Steps to follow\n",
    "\n",
    "First we need to cluster the training set.\n",
    "\n",
    "Then we find the instances closest to the centroid"
   ]
  },
  {
   "cell_type": "code",
   "execution_count": 51,
   "id": "4bbad5e8",
   "metadata": {
    "ExecuteTime": {
     "end_time": "2022-01-27T16:40:20.517628Z",
     "start_time": "2022-01-27T16:40:20.464675Z"
    }
   },
   "outputs": [
    {
     "name": "stdout",
     "output_type": "stream",
     "text": [
      "(455, 9)\n"
     ]
    }
   ],
   "source": [
    "K=9\n",
    "kmeans=KMeans(n_clusters=K,random_state=42)\n",
    "X_transformed=kmeans.fit_transform(X_train)\n",
    "print(X_transformed.shape)"
   ]
  },
  {
   "cell_type": "code",
   "execution_count": 52,
   "id": "27222312",
   "metadata": {
    "ExecuteTime": {
     "end_time": "2022-01-27T16:40:20.522006Z",
     "start_time": "2022-01-27T16:40:20.518754Z"
    }
   },
   "outputs": [
    {
     "data": {
      "text/plain": [
       "9"
      ]
     },
     "execution_count": 52,
     "metadata": {},
     "output_type": "execute_result"
    }
   ],
   "source": [
    "len(np.argmin(X_transformed,axis=0))"
   ]
  },
  {
   "cell_type": "markdown",
   "id": "b67fcadc",
   "metadata": {},
   "source": [
    "### getting the representative idx and data"
   ]
  },
  {
   "cell_type": "code",
   "execution_count": 53,
   "id": "098ae1fb",
   "metadata": {
    "ExecuteTime": {
     "end_time": "2022-01-27T16:40:20.525436Z",
     "start_time": "2022-01-27T16:40:20.523071Z"
    }
   },
   "outputs": [],
   "source": [
    "representative_idx=np.argmin(X_transformed,axis=0)\n",
    "X_instances=X_train[representative_idx]"
   ]
  },
  {
   "cell_type": "code",
   "execution_count": 54,
   "id": "de497c4c",
   "metadata": {
    "ExecuteTime": {
     "end_time": "2022-01-27T16:40:20.529500Z",
     "start_time": "2022-01-27T16:40:20.526786Z"
    }
   },
   "outputs": [
    {
     "data": {
      "text/plain": [
       "array([[1],\n",
       "       [0],\n",
       "       [0],\n",
       "       [1],\n",
       "       [0],\n",
       "       [1],\n",
       "       [1],\n",
       "       [1],\n",
       "       [0]])"
      ]
     },
     "execution_count": 54,
     "metadata": {},
     "output_type": "execute_result"
    }
   ],
   "source": [
    "# y_instances from the representatinve index\n",
    "y_instances=y_train[representative_idx]\n",
    "y_instances.reshape(9,-1)"
   ]
  },
  {
   "cell_type": "code",
   "execution_count": 55,
   "id": "e3f429ff",
   "metadata": {
    "ExecuteTime": {
     "end_time": "2022-01-27T16:40:20.537327Z",
     "start_time": "2022-01-27T16:40:20.530604Z"
    }
   },
   "outputs": [
    {
     "data": {
      "text/plain": [
       "LogisticRegression(max_iter=2000, multi_class='ovr', random_state=42)"
      ]
     },
     "execution_count": 55,
     "metadata": {},
     "output_type": "execute_result"
    }
   ],
   "source": [
    "log_reg=LogisticRegression(random_state=42,multi_class=\"ovr\",max_iter=2000)\n",
    "log_reg.fit(X_instances,y_instances)"
   ]
  },
  {
   "cell_type": "code",
   "execution_count": 56,
   "id": "d1066b47",
   "metadata": {
    "ExecuteTime": {
     "end_time": "2022-01-27T16:40:20.543891Z",
     "start_time": "2022-01-27T16:40:20.539196Z"
    }
   },
   "outputs": [
    {
     "name": "stdout",
     "output_type": "stream",
     "text": [
      "0.9298245614035088\n",
      "1.0\n",
      "0.9164835164835164\n"
     ]
    }
   ],
   "source": [
    "print(log_reg.score(X_test,y_test))\n",
    "print(log_reg.score(X_instances,y_instances))\n",
    "print(log_reg.score(X_train,y_train))"
   ]
  },
  {
   "cell_type": "code",
   "execution_count": 57,
   "id": "15f76ac7",
   "metadata": {
    "ExecuteTime": {
     "end_time": "2022-01-27T16:40:20.548715Z",
     "start_time": "2022-01-27T16:40:20.545002Z"
    }
   },
   "outputs": [
    {
     "data": {
      "text/plain": [
       "array([0, 1, 2, 3, 4, 5, 6, 7, 8], dtype=int32)"
      ]
     },
     "execution_count": 57,
     "metadata": {},
     "output_type": "execute_result"
    }
   ],
   "source": [
    "np.unique(kmeans.labels_)"
   ]
  },
  {
   "cell_type": "code",
   "execution_count": 58,
   "id": "6798c265",
   "metadata": {
    "ExecuteTime": {
     "end_time": "2022-01-27T16:40:20.553034Z",
     "start_time": "2022-01-27T16:40:20.550358Z"
    }
   },
   "outputs": [
    {
     "data": {
      "text/plain": [
       "array([0, 0, 0, 0, 0, 0, 0, 0, 0, 0, 0, 0, 0, 0, 0, 0, 0, 0, 0, 1, 1, 1,\n",
       "       0, 0, 0, 0, 0, 0, 0, 0, 0, 0, 0, 0, 0, 0, 0, 1, 0, 0, 0, 0, 0, 0,\n",
       "       0, 0, 1, 0, 1, 1])"
      ]
     },
     "execution_count": 58,
     "metadata": {},
     "output_type": "execute_result"
    }
   ],
   "source": [
    "labels[:50]"
   ]
  },
  {
   "cell_type": "markdown",
   "id": "02c7008c",
   "metadata": {},
   "source": [
    "### give the label to all the instance that are in the same cluster\n",
    "\n",
    "- label propagation"
   ]
  },
  {
   "cell_type": "code",
   "execution_count": 59,
   "id": "5b2ae725",
   "metadata": {
    "ExecuteTime": {
     "end_time": "2022-01-27T16:40:20.556534Z",
     "start_time": "2022-01-27T16:40:20.554032Z"
    }
   },
   "outputs": [
    {
     "name": "stdout",
     "output_type": "stream",
     "text": [
      "(455,)\n"
     ]
    }
   ],
   "source": [
    "y_train_propagated_label=np.empty(len(X_train))\n",
    "print(y_train_propagated_label.shape)\n",
    "for i in range(K):\n",
    "    y_train_propagated_label[kmeans.labels_==i]=y_instances[i]"
   ]
  },
  {
   "cell_type": "code",
   "execution_count": 60,
   "id": "9170bc99",
   "metadata": {
    "ExecuteTime": {
     "end_time": "2022-01-27T16:40:20.560963Z",
     "start_time": "2022-01-27T16:40:20.557705Z"
    }
   },
   "outputs": [
    {
     "data": {
      "text/plain": [
       "(array([0., 1.]), array([137, 318]))"
      ]
     },
     "execution_count": 60,
     "metadata": {},
     "output_type": "execute_result"
    }
   ],
   "source": [
    "np.unique(y_train_propagated_label,return_counts=True)"
   ]
  },
  {
   "cell_type": "code",
   "execution_count": 61,
   "id": "554aff46",
   "metadata": {
    "ExecuteTime": {
     "end_time": "2022-01-27T16:40:20.566764Z",
     "start_time": "2022-01-27T16:40:20.562693Z"
    }
   },
   "outputs": [
    {
     "data": {
      "text/plain": [
       "(array([0, 1]), array([170, 285]))"
      ]
     },
     "execution_count": 61,
     "metadata": {},
     "output_type": "execute_result"
    }
   ],
   "source": [
    "np.unique(y_train,return_counts=True)"
   ]
  },
  {
   "cell_type": "code",
   "execution_count": 62,
   "id": "a9b44503",
   "metadata": {
    "ExecuteTime": {
     "end_time": "2022-01-27T16:40:20.570974Z",
     "start_time": "2022-01-27T16:40:20.567933Z"
    }
   },
   "outputs": [
    {
     "data": {
      "text/plain": [
       "(0, 0.0)"
      ]
     },
     "execution_count": 62,
     "metadata": {},
     "output_type": "execute_result"
    }
   ],
   "source": [
    "y_train[300], y_train_propagated_label[300]"
   ]
  },
  {
   "cell_type": "markdown",
   "id": "a80a5273",
   "metadata": {},
   "source": [
    "### model training with the new propagated data"
   ]
  },
  {
   "cell_type": "code",
   "execution_count": 63,
   "id": "76719a1f",
   "metadata": {
    "ExecuteTime": {
     "end_time": "2022-01-27T16:40:20.585683Z",
     "start_time": "2022-01-27T16:40:20.572038Z"
    }
   },
   "outputs": [
    {
     "name": "stdout",
     "output_type": "stream",
     "text": [
      "0.9210526315789473\n"
     ]
    }
   ],
   "source": [
    "log_reg=LogisticRegression(multi_class=\"ovr\",max_iter=2000,random_state=42)\n",
    "log_reg.fit(X_train,y_train_propagated_label)\n",
    "print(log_reg.score(X_test,y_test))"
   ]
  },
  {
   "cell_type": "markdown",
   "id": "2d509434",
   "metadata": {},
   "source": [
    "### propagation accuracy"
   ]
  },
  {
   "cell_type": "code",
   "execution_count": 64,
   "id": "a30441d5",
   "metadata": {
    "ExecuteTime": {
     "end_time": "2022-01-27T16:40:20.591879Z",
     "start_time": "2022-01-27T16:40:20.586894Z"
    }
   },
   "outputs": [
    {
     "data": {
      "text/plain": [
       "(0.5416434198888742, 0.5850825505575644, 0.56252562187013)"
      ]
     },
     "execution_count": 64,
     "metadata": {},
     "output_type": "execute_result"
    }
   ],
   "source": [
    "homogeneity_completeness_v_measure(y_train,y_train_propagated_label)"
   ]
  },
  {
   "cell_type": "code",
   "execution_count": 65,
   "id": "e5bee1fe",
   "metadata": {
    "ExecuteTime": {
     "end_time": "2022-01-27T16:40:20.596234Z",
     "start_time": "2022-01-27T16:40:20.593041Z"
    }
   },
   "outputs": [
    {
     "data": {
      "text/plain": [
       "0.9054945054945055"
      ]
     },
     "execution_count": 65,
     "metadata": {},
     "output_type": "execute_result"
    }
   ],
   "source": [
    "np.mean(y_train==y_train_propagated_label)"
   ]
  },
  {
   "cell_type": "code",
   "execution_count": 66,
   "id": "857667be",
   "metadata": {
    "ExecuteTime": {
     "end_time": "2022-01-27T16:40:20.601504Z",
     "start_time": "2022-01-27T16:40:20.597704Z"
    }
   },
   "outputs": [
    {
     "data": {
      "text/plain": [
       "0.9054945054945055"
      ]
     },
     "execution_count": 66,
     "metadata": {},
     "output_type": "execute_result"
    }
   ],
   "source": [
    "accuracy_score(y_train,y_train_propagated_label)"
   ]
  },
  {
   "cell_type": "markdown",
   "id": "1e665af3",
   "metadata": {},
   "source": [
    "### Propagation accuracy is approximately 90%. We can try to improve it by propagating the labels only to a threshold near to the centroid."
   ]
  },
  {
   "cell_type": "markdown",
   "id": "ad7e074d",
   "metadata": {},
   "source": [
    " ## Increase the accuracy by propagating only to the instances that are really close to the centroid\n",
    " \n",
    " \n",
    "if we propagate the instances to the full cluster it might have an outlier so the most commonly used technique is to propagate the label to some threshold closest to the centroid.\n",
    "The commonly used threshold is a precentile according to the data."
   ]
  },
  {
   "cell_type": "code",
   "execution_count": 67,
   "id": "897cd06e",
   "metadata": {
    "ExecuteTime": {
     "end_time": "2022-01-27T16:40:20.604807Z",
     "start_time": "2022-01-27T16:40:20.602455Z"
    }
   },
   "outputs": [
    {
     "name": "stdout",
     "output_type": "stream",
     "text": [
      "cluster centroid shape : (9, 30)\n",
      "cluster centroid label : 3\n"
     ]
    }
   ],
   "source": [
    "print(f\"cluster centroid shape : {kmeans.cluster_centers_.shape}\")\n",
    "print(f\"cluster centroid label : {kmeans.labels_[0]}\")"
   ]
  },
  {
   "cell_type": "code",
   "execution_count": 68,
   "id": "521fe0c0",
   "metadata": {
    "ExecuteTime": {
     "end_time": "2022-01-27T16:40:20.609034Z",
     "start_time": "2022-01-27T16:40:20.606210Z"
    }
   },
   "outputs": [
    {
     "data": {
      "text/plain": [
       "array([ 3.70054735,  5.47680319,  6.08201022,  2.49258826, 10.91467135,\n",
       "        3.76135042,  9.51094235,  5.32281886, 20.62747343])"
      ]
     },
     "execution_count": 68,
     "metadata": {},
     "output_type": "execute_result"
    }
   ],
   "source": [
    "X_transformed[0]"
   ]
  },
  {
   "cell_type": "code",
   "execution_count": 69,
   "id": "dd5a1a68",
   "metadata": {
    "ExecuteTime": {
     "end_time": "2022-01-27T16:40:20.612728Z",
     "start_time": "2022-01-27T16:40:20.609957Z"
    }
   },
   "outputs": [
    {
     "data": {
      "text/plain": [
       "2.4925882578566014"
      ]
     },
     "execution_count": 69,
     "metadata": {},
     "output_type": "execute_result"
    }
   ],
   "source": [
    "X_transformed[0][np.argmin(X_transformed[0])]"
   ]
  },
  {
   "cell_type": "code",
   "execution_count": 70,
   "id": "1ee8cfa6",
   "metadata": {
    "ExecuteTime": {
     "end_time": "2022-01-27T16:40:20.618294Z",
     "start_time": "2022-01-27T16:40:20.613893Z"
    }
   },
   "outputs": [],
   "source": [
    "percentile=80 # took 80% of the instances that are closest to the centroid\n",
    "X_cluster_distance=X_transformed[np.arange(len(X_train)),kmeans.labels_]\n",
    "for i in range(K):\n",
    "    intra_cluster=kmeans.labels_==i\n",
    "    cluster_dist=X_cluster_distance[intra_cluster]\n",
    "    dist=np.percentile(cluster_dist,percentile)\n",
    "    upper_dis=(X_cluster_distance>dist)\n",
    "    X_cluster_distance[intra_cluster&upper_dis]=-1"
   ]
  },
  {
   "cell_type": "code",
   "execution_count": 71,
   "id": "925b1cc5",
   "metadata": {
    "ExecuteTime": {
     "end_time": "2022-01-27T16:40:20.623183Z",
     "start_time": "2022-01-27T16:40:20.619787Z"
    }
   },
   "outputs": [
    {
     "data": {
      "text/plain": [
       "array([ 2.49258826,  3.59803653,  3.28951877,  3.73292161,  1.49696451,\n",
       "        4.04535731, -1.        ,  2.77179738,  2.50682756,  2.06317099,\n",
       "        2.78724245,  4.08598166,  1.86886777,  1.85765875,  2.57689926,\n",
       "        1.57530743, -1.        ,  3.93262202, -1.        ,  1.19240448])"
      ]
     },
     "execution_count": 71,
     "metadata": {},
     "output_type": "execute_result"
    }
   ],
   "source": [
    "X_cluster_distance[:20]"
   ]
  },
  {
   "cell_type": "code",
   "execution_count": 72,
   "id": "d4c0bc8b",
   "metadata": {
    "ExecuteTime": {
     "end_time": "2022-01-27T16:40:20.626938Z",
     "start_time": "2022-01-27T16:40:20.624445Z"
    }
   },
   "outputs": [
    {
     "data": {
      "text/plain": [
       "(455,)"
      ]
     },
     "execution_count": 72,
     "metadata": {},
     "output_type": "execute_result"
    }
   ],
   "source": [
    "X_cluster_distance.shape"
   ]
  },
  {
   "cell_type": "code",
   "execution_count": 73,
   "id": "4583252c",
   "metadata": {
    "ExecuteTime": {
     "end_time": "2022-01-27T16:40:20.630928Z",
     "start_time": "2022-01-27T16:40:20.628190Z"
    }
   },
   "outputs": [
    {
     "data": {
      "text/plain": [
       "360"
      ]
     },
     "execution_count": 73,
     "metadata": {},
     "output_type": "execute_result"
    }
   ],
   "source": [
    "np.sum(X_cluster_distance!=-1)"
   ]
  },
  {
   "cell_type": "code",
   "execution_count": 74,
   "id": "4f8f972f",
   "metadata": {
    "ExecuteTime": {
     "end_time": "2022-01-27T16:40:20.634822Z",
     "start_time": "2022-01-27T16:40:20.631988Z"
    }
   },
   "outputs": [],
   "source": [
    "propagation_cutoff=(X_cluster_distance!=-1)\n",
    "X_train_partially_select=X_train[propagation_cutoff]\n",
    "y_train_partially_select=y_train_propagated_label[propagation_cutoff]"
   ]
  },
  {
   "cell_type": "code",
   "execution_count": 75,
   "id": "1ab91f33",
   "metadata": {
    "ExecuteTime": {
     "end_time": "2022-01-27T16:40:20.650612Z",
     "start_time": "2022-01-27T16:40:20.636360Z"
    }
   },
   "outputs": [
    {
     "name": "stdout",
     "output_type": "stream",
     "text": [
      "0.9210526315789473\n"
     ]
    }
   ],
   "source": [
    "log_reg=LogisticRegression(multi_class=\"ovr\",max_iter=2000,random_state=42)\n",
    "log_reg.fit(X_train_partially_select,y_train_partially_select)\n",
    "print(log_reg.score(X_test,y_test))"
   ]
  },
  {
   "cell_type": "code",
   "execution_count": 76,
   "id": "9b4f37d4",
   "metadata": {
    "ExecuteTime": {
     "end_time": "2022-01-27T16:40:20.654825Z",
     "start_time": "2022-01-27T16:40:20.651818Z"
    }
   },
   "outputs": [
    {
     "data": {
      "text/plain": [
       "0.925"
      ]
     },
     "execution_count": 76,
     "metadata": {},
     "output_type": "execute_result"
    }
   ],
   "source": [
    "np.mean(y_train_partially_select==y_train[propagation_cutoff])"
   ]
  },
  {
   "cell_type": "markdown",
   "id": "30e30760",
   "metadata": {},
   "source": [
    "### Accuracy increased from 90% to 92% by propagating only to the instances that are really close to the centroid"
   ]
  },
  {
   "cell_type": "code",
   "execution_count": null,
   "id": "17614935",
   "metadata": {},
   "outputs": [],
   "source": []
  }
 ],
 "metadata": {
  "kernelspec": {
   "display_name": "Python 3 (ipykernel)",
   "language": "python",
   "name": "python3"
  },
  "language_info": {
   "codemirror_mode": {
    "name": "ipython",
    "version": 3
   },
   "file_extension": ".py",
   "mimetype": "text/x-python",
   "name": "python",
   "nbconvert_exporter": "python",
   "pygments_lexer": "ipython3",
   "version": "3.7.11"
  },
  "toc": {
   "base_numbering": 1,
   "nav_menu": {},
   "number_sections": true,
   "sideBar": true,
   "skip_h1_title": false,
   "title_cell": "Table of Contents",
   "title_sidebar": "Contents",
   "toc_cell": false,
   "toc_position": {},
   "toc_section_display": true,
   "toc_window_display": true
  },
  "varInspector": {
   "cols": {
    "lenName": 16,
    "lenType": 16,
    "lenVar": 40
   },
   "kernels_config": {
    "python": {
     "delete_cmd_postfix": "",
     "delete_cmd_prefix": "del ",
     "library": "var_list.py",
     "varRefreshCmd": "print(var_dic_list())"
    },
    "r": {
     "delete_cmd_postfix": ") ",
     "delete_cmd_prefix": "rm(",
     "library": "var_list.r",
     "varRefreshCmd": "cat(var_dic_list()) "
    }
   },
   "types_to_exclude": [
    "module",
    "function",
    "builtin_function_or_method",
    "instance",
    "_Feature"
   ],
   "window_display": false
  }
 },
 "nbformat": 4,
 "nbformat_minor": 5
}
